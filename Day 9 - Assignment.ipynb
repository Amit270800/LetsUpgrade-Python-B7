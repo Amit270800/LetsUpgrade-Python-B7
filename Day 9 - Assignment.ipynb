{
 "cells": [
  {
   "cell_type": "markdown",
   "metadata": {},
   "source": [
    "# Assignment 1"
   ]
  },
  {
   "cell_type": "code",
   "execution_count": 1,
   "metadata": {},
   "outputs": [
    {
     "name": "stdout",
     "output_type": "stream",
     "text": [
      "Overwriting prime.py\n"
     ]
    }
   ],
   "source": [
    "# Check weather no. is prime or not\n",
    "%%writefile prime.py\n",
    "\n",
    "def PrimeProg(num):\n",
    "    for i in range(2,num):\n",
    "        if (num % i) == 0:\n",
    "            return \"The number is not Prime\"\n",
    "    else:\n",
    "        return \"The number is Prime\"\n",
    "             "
   ]
  },
  {
   "cell_type": "code",
   "execution_count": 2,
   "metadata": {},
   "outputs": [
    {
     "data": {
      "text/plain": [
       "'The number is not Prime'"
      ]
     },
     "execution_count": 2,
     "metadata": {},
     "output_type": "execute_result"
    }
   ],
   "source": [
    "import prime\n",
    "\n",
    "prime.PrimeProg(6)"
   ]
  },
  {
   "cell_type": "code",
   "execution_count": 8,
   "metadata": {},
   "outputs": [
    {
     "name": "stdout",
     "output_type": "stream",
     "text": [
      "Overwriting test_prime.py\n"
     ]
    }
   ],
   "source": [
    "%%writefile test_prime.py\n",
    "# Unit Testing on Above Prime Program\n",
    "import unittest\n",
    "import prime\n",
    "\n",
    "class testprime(unittest.TestCase):\n",
    "    def testPrimeProg(self):\n",
    "        a = 9\n",
    "        result = prime.PrimeProg(9)\n",
    "        self.assertEquals(result, \"The number is not Prime\")\n",
    "        \n",
    "if __name__ == \"__main__\":\n",
    "    unittest.main()"
   ]
  },
  {
   "cell_type": "code",
   "execution_count": 6,
   "metadata": {},
   "outputs": [
    {
     "name": "stderr",
     "output_type": "stream",
     "text": [
      "test_prime.py:9: DeprecationWarning: Please use assertEqual instead.\n",
      "  self.assertEquals(result, \"The number is not Prime\")\n",
      ".\n",
      "----------------------------------------------------------------------\n",
      "Ran 1 test in 0.000s\n",
      "\n",
      "OK\n"
     ]
    }
   ],
   "source": [
    "! python test_prime.py"
   ]
  },
  {
   "cell_type": "markdown",
   "metadata": {},
   "source": [
    "# Assignment 2"
   ]
  },
  {
   "cell_type": "code",
   "execution_count": 9,
   "metadata": {},
   "outputs": [],
   "source": [
    "# Armstrong No. Program with Generator\n",
    "def Armst():\n",
    "    for i in range(1,1000):\n",
    "        temp = i\n",
    "        sum = 0\n",
    "        while temp > 0:\n",
    "            a = temp % 10\n",
    "            sum = sum + a ** 3\n",
    "            temp = temp // 10\n",
    "        if sum == i:\n",
    "            yield i"
   ]
  },
  {
   "cell_type": "code",
   "execution_count": 11,
   "metadata": {},
   "outputs": [],
   "source": [
    "Armstrong_No = list(Armst())"
   ]
  },
  {
   "cell_type": "code",
   "execution_count": 12,
   "metadata": {},
   "outputs": [
    {
     "data": {
      "text/plain": [
       "[1, 153, 370, 371, 407]"
      ]
     },
     "execution_count": 12,
     "metadata": {},
     "output_type": "execute_result"
    }
   ],
   "source": [
    "Armstrong_No"
   ]
  }
 ],
 "metadata": {
  "kernelspec": {
   "display_name": "Python 3",
   "language": "python",
   "name": "python3"
  },
  "language_info": {
   "codemirror_mode": {
    "name": "ipython",
    "version": 3
   },
   "file_extension": ".py",
   "mimetype": "text/x-python",
   "name": "python",
   "nbconvert_exporter": "python",
   "pygments_lexer": "ipython3",
   "version": "3.8.3"
  }
 },
 "nbformat": 4,
 "nbformat_minor": 4
}
