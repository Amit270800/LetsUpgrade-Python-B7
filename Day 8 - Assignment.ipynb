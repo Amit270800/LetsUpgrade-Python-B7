{
 "cells": [
  {
   "cell_type": "markdown",
   "metadata": {},
   "source": [
    "# Assignment 1"
   ]
  },
  {
   "cell_type": "code",
   "execution_count": 17,
   "metadata": {},
   "outputs": [],
   "source": [
    "# Decorator\n",
    "# Fibonacci\n",
    "def deco_fibo(get_upper):\n",
    "    \n",
    "    def fibo():\n",
    "        upper = get_upper()\n",
    "        num1 = 0\n",
    "        num2 = 1\n",
    "        print(num2)\n",
    "        for i in range(upper):\n",
    "            num3 = num1 + num2\n",
    "            print(num3)\n",
    "            num1 = num2\n",
    "            num2 = num3\n",
    "    return fibo()"
   ]
  },
  {
   "cell_type": "code",
   "execution_count": 18,
   "metadata": {},
   "outputs": [
    {
     "name": "stdout",
     "output_type": "stream",
     "text": [
      "Enter input range - 5\n",
      "1\n",
      "1\n",
      "2\n",
      "3\n",
      "5\n",
      "8\n"
     ]
    }
   ],
   "source": [
    "@deco_fibo\n",
    "def get_upper():\n",
    "    upper = int(input(\"Enter input range - \"))\n",
    "    return upper"
   ]
  },
  {
   "cell_type": "markdown",
   "metadata": {},
   "source": [
    "# Assignment 2"
   ]
  },
  {
   "cell_type": "code",
   "execution_count": 19,
   "metadata": {},
   "outputs": [],
   "source": [
    "# Create file\n",
    "file = open(\"myfile.txt\",\"w\")\n",
    "file.write(\"Hey this is my File\")\n",
    "file.close()"
   ]
  },
  {
   "cell_type": "code",
   "execution_count": 22,
   "metadata": {},
   "outputs": [
    {
     "name": "stdout",
     "output_type": "stream",
     "text": [
      "not writable\n",
      "Open the file in write mode\n"
     ]
    }
   ],
   "source": [
    "# Exception Handling\n",
    "try:\n",
    "    file=open(\"myfile.txt\",\"r\")\n",
    "    file.write(\"Write in file\")\n",
    "    file.close()\n",
    "except Exception as e:\n",
    "    print(e)\n",
    "finally:\n",
    "    print(\"Open the file in write mode\")"
   ]
  },
  {
   "cell_type": "code",
   "execution_count": 25,
   "metadata": {},
   "outputs": [
    {
     "name": "stdout",
     "output_type": "stream",
     "text": [
      "not writable\n"
     ]
    }
   ],
   "source": [
    "# Exception Handled Correctly\n",
    "try:\n",
    "    file = open(\"myfile.txt\",\"r\")\n",
    "    file.write(\"Write in file\")\n",
    "    file.close()\n",
    "except Exception as e:\n",
    "    print(e)\n",
    "finally:\n",
    "    file = open(\"myfile.txt\",\"w\")\n",
    "    file.write(\"Write in file\")\n",
    "    file.close()"
   ]
  },
  {
   "cell_type": "code",
   "execution_count": 26,
   "metadata": {},
   "outputs": [
    {
     "name": "stdout",
     "output_type": "stream",
     "text": [
      "Write in file\n"
     ]
    }
   ],
   "source": [
    "file = open(\"myfile.txt\",\"r\")\n",
    "filedata = file.read()\n",
    "print(filedata)\n",
    "file.close()"
   ]
  },
  {
   "cell_type": "code",
   "execution_count": null,
   "metadata": {},
   "outputs": [],
   "source": []
  }
 ],
 "metadata": {
  "kernelspec": {
   "display_name": "Python 3",
   "language": "python",
   "name": "python3"
  },
  "language_info": {
   "codemirror_mode": {
    "name": "ipython",
    "version": 3
   },
   "file_extension": ".py",
   "mimetype": "text/x-python",
   "name": "python",
   "nbconvert_exporter": "python",
   "pygments_lexer": "ipython3",
   "version": "3.8.3"
  }
 },
 "nbformat": 4,
 "nbformat_minor": 4
}
