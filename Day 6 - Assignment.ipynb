{
 "cells": [
  {
   "cell_type": "markdown",
   "metadata": {},
   "source": [
    "# Assignment 1"
   ]
  },
  {
   "cell_type": "code",
   "execution_count": 9,
   "metadata": {},
   "outputs": [],
   "source": [
    "class bank_account():\n",
    "    def __init__(self,ownerName,balance):\n",
    "        self.ownerName = ownerName\n",
    "        self.balance = balance\n",
    "    def deposit(self,dep):\n",
    "        self.dep = dep\n",
    "        print(\"You have deposited - Rs\",self.dep)\n",
    "        self.balance = self.balance + self.dep\n",
    "        print(\"Now your account balance is - Rs\",self.balance)\n",
    "    def withdraw(self,wit):\n",
    "        self.wit = wit\n",
    "        if self.wit <= self.balance:\n",
    "            print(\"You have withdrawn - Rs\",self.wit)\n",
    "            self.balance = self.balance - self.wit\n",
    "            print(\"Now your account balance is - Rs\",self.balance)\n",
    "        else:\n",
    "            print(\"Insufficient Balance - Rs\",self.balance)"
   ]
  },
  {
   "cell_type": "code",
   "execution_count": 10,
   "metadata": {},
   "outputs": [],
   "source": [
    "Amit = bank_account(\"Amit\",5000)"
   ]
  },
  {
   "cell_type": "code",
   "execution_count": 11,
   "metadata": {},
   "outputs": [
    {
     "name": "stdout",
     "output_type": "stream",
     "text": [
      "You have deposited - Rs 1000\n",
      "Now your account balance is - Rs 6000\n"
     ]
    }
   ],
   "source": [
    "Amit.deposit(1000)"
   ]
  },
  {
   "cell_type": "code",
   "execution_count": 12,
   "metadata": {},
   "outputs": [
    {
     "name": "stdout",
     "output_type": "stream",
     "text": [
      "You have withdrawn - Rs 2500\n",
      "Now your account balance is - Rs 3500\n"
     ]
    }
   ],
   "source": [
    "Amit.withdraw(2500)"
   ]
  },
  {
   "cell_type": "code",
   "execution_count": 13,
   "metadata": {},
   "outputs": [
    {
     "name": "stdout",
     "output_type": "stream",
     "text": [
      "You have deposited - Rs 1\n",
      "Now your account balance is - Rs 3501\n"
     ]
    }
   ],
   "source": [
    "Amit.deposit(1)"
   ]
  },
  {
   "cell_type": "code",
   "execution_count": 14,
   "metadata": {},
   "outputs": [
    {
     "name": "stdout",
     "output_type": "stream",
     "text": [
      "Insufficient Balance - Rs 3501\n"
     ]
    }
   ],
   "source": [
    "Amit.withdraw(5000)"
   ]
  },
  {
   "cell_type": "code",
   "execution_count": 15,
   "metadata": {},
   "outputs": [
    {
     "name": "stdout",
     "output_type": "stream",
     "text": [
      "You have withdrawn - Rs 2501\n",
      "Now your account balance is - Rs 1000\n"
     ]
    }
   ],
   "source": [
    "Amit.withdraw(2501)"
   ]
  },
  {
   "cell_type": "markdown",
   "metadata": {},
   "source": [
    "# Assignment 2"
   ]
  },
  {
   "cell_type": "code",
   "execution_count": 18,
   "metadata": {},
   "outputs": [],
   "source": [
    "import math\n",
    "\n",
    "class Cone():\n",
    "    def __init__(self,R,h):\n",
    "        self.R = R\n",
    "        self.h = h\n",
    "    def volume(self):\n",
    "        volume = math.pi * self.R * self.R * self.h / 3\n",
    "        print(\"Volume of Cone is -\",\"{:.2f}\".format(volume))\n",
    "    def surf_area(self):\n",
    "        area = (math.pi * self.R * self.R) + (math.pi * self.R * math.sqrt(self.R * self.R + self.h * self.h))\n",
    "        print(\"Surface area of Cone is -\",\"{:.2f}\".format(area))"
   ]
  },
  {
   "cell_type": "code",
   "execution_count": 19,
   "metadata": {},
   "outputs": [],
   "source": [
    "cone = Cone(2,3)"
   ]
  },
  {
   "cell_type": "code",
   "execution_count": 20,
   "metadata": {},
   "outputs": [
    {
     "name": "stdout",
     "output_type": "stream",
     "text": [
      "Volume of Cone is - 12.57\n"
     ]
    }
   ],
   "source": [
    "cone.volume()"
   ]
  },
  {
   "cell_type": "code",
   "execution_count": 21,
   "metadata": {},
   "outputs": [
    {
     "name": "stdout",
     "output_type": "stream",
     "text": [
      "Surface area of Cone is - 35.22\n"
     ]
    }
   ],
   "source": [
    "cone.surf_area()"
   ]
  },
  {
   "cell_type": "code",
   "execution_count": null,
   "metadata": {},
   "outputs": [],
   "source": []
  }
 ],
 "metadata": {
  "kernelspec": {
   "display_name": "Python 3",
   "language": "python",
   "name": "python3"
  },
  "language_info": {
   "codemirror_mode": {
    "name": "ipython",
    "version": 3
   },
   "file_extension": ".py",
   "mimetype": "text/x-python",
   "name": "python",
   "nbconvert_exporter": "python",
   "pygments_lexer": "ipython3",
   "version": "3.8.3"
  }
 },
 "nbformat": 4,
 "nbformat_minor": 4
}
