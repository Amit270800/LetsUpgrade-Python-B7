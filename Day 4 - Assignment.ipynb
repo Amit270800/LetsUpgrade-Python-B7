{
 "cells": [
  {
   "cell_type": "code",
   "execution_count": 2,
   "metadata": {},
   "outputs": [
    {
     "name": "stdout",
     "output_type": "stream",
     "text": [
      "Not found\n"
     ]
    }
   ],
   "source": [
    "for n in range(1042000,702648265):  \n",
    "    sum = 0  \n",
    "    temp = n  \n",
    "    while temp > 0:  \n",
    "        a = temp % 10  \n",
    "        sum = sum + a ** 3  \n",
    "        temp = temp // 10  \n",
    "  \n",
    "    if n == sum:  \n",
    "        print(\"The first armstrong number is -\",n)\n",
    "        break\n",
    "else:\n",
    "    print(\"Not found\")"
   ]
  },
  {
   "cell_type": "code",
   "execution_count": null,
   "metadata": {},
   "outputs": [],
   "source": []
  }
 ],
 "metadata": {
  "kernelspec": {
   "display_name": "Python 3",
   "language": "python",
   "name": "python3"
  },
  "language_info": {
   "codemirror_mode": {
    "name": "ipython",
    "version": 3
   },
   "file_extension": ".py",
   "mimetype": "text/x-python",
   "name": "python",
   "nbconvert_exporter": "python",
   "pygments_lexer": "ipython3",
   "version": "3.8.3"
  }
 },
 "nbformat": 4,
 "nbformat_minor": 4
}
